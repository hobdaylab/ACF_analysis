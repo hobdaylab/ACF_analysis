{
 "cells": [
  {
   "cell_type": "markdown",
   "id": "03999f05-170b-4e76-a036-028fb71e8ccb",
   "metadata": {},
   "source": [
    "### Import our libraries"
   ]
  },
  {
   "cell_type": "code",
   "execution_count": 4,
   "id": "6154c07d-956d-4bb5-9259-394f578205b3",
   "metadata": {},
   "outputs": [],
   "source": [
    "import numpy as np\n",
    "import pandas as pd\n",
    "import os,sys,glob,math,pickle\n",
    "import datetime as dt\n",
    "import matplotlib\n",
    "import matplotlib.pyplot as plt\n",
    "import matplotlib._color_data as mcd\n",
    "np.set_printoptions(threshold=sys.maxsize)\n",
    "from scipy.optimize import curve_fit\n",
    "import math\n",
    "import seaborn as sns\n",
    "from scipy.stats import kde\n",
    "from mpl_toolkits.mplot3d import Axes3D\n",
    "from datetime import datetime"
   ]
  },
  {
   "cell_type": "markdown",
   "id": "0d197bb5-3b1d-4a6f-9c66-9907429bab9f",
   "metadata": {},
   "source": [
    "### Specify files and parameters"
   ]
  },
  {
   "cell_type": "code",
   "execution_count": 8,
   "id": "9e543580-56fe-4f71-b948-b7908ba4f163",
   "metadata": {},
   "outputs": [
    {
     "name": "stdout",
     "output_type": "stream",
     "text": [
      "For 150: File exists? True\n",
      "For 200: File exists? True\n",
      "For 250: File exists? True\n",
      "For 300: File exists? True\n",
      "For 350: File exists? True\n",
      "For 400: File exists? True\n",
      "For 450: File exists? True\n",
      "For 500: File exists? True\n",
      "For 550: File exists? True\n",
      "For 600: File exists? True\n"
     ]
    }
   ],
   "source": [
    "temperatures=(\"150\", \"200\", \"250\", \"300\", \"350\", \"400\", \"450\", \"500\" ,\"550\", \"600\")\n",
    "\n",
    "# Check that the files exist \n",
    "\n",
    "for temp in temperatures:\n",
    "    \n",
    "    txt=temp+\"K.txt\"\n",
    "    fileok=os.path.isfile(txt)\n",
    "    print(\"For \" + temp + \": File exists? \" +str(fileok))\n",
    "\n",
    "    \n",
    "ntemp=int(len(temperatures))\n",
    "nskip = 9 \n",
    "nframes = 181818\n",
    "# nframes = 800000\n",
    "natoms  = 2\n",
    "tot_skip = int(nskip*nframes)"
   ]
  },
  {
   "cell_type": "markdown",
   "id": "cb410f4f-b726-4b45-afa4-c4a276729070",
   "metadata": {},
   "source": [
    "### Read text file made with other script"
   ]
  },
  {
   "cell_type": "code",
   "execution_count": 33,
   "id": "14ccbab6-23bc-460c-b920-6a654fc59124",
   "metadata": {},
   "outputs": [],
   "source": [
    "temp_1 = \"150\"\n",
    "temp_2 = \"500\"\n",
    "\n",
    "txt=temp_1+\"K.txt\"\n",
    "traj = np.loadtxt(txt)\n",
    "traj = traj.reshape((natoms, 3, nframes))\n",
    "\n",
    "#txt=temp_2+\"K.txt\"\n",
    "#traj = np.loadtxt(txt)\n",
    "#traj= traj.reshape((natoms, 3, nframes))"
   ]
  },
  {
   "cell_type": "markdown",
   "id": "0f81263c-4990-4cb9-9805-e95cd8f7fdfa",
   "metadata": {},
   "source": [
    "### Do the ACF calculation here"
   ]
  },
  {
   "cell_type": "code",
   "execution_count": 31,
   "id": "727d3d46-152c-452b-b284-3bfa60b9b25d",
   "metadata": {},
   "outputs": [
    {
     "name": "stdout",
     "output_type": "stream",
     "text": [
      "[[[14.4  14.4  14.4 ]]\n",
      "\n",
      " [[ 5.14  5.14  5.14]]]\n"
     ]
    }
   ],
   "source": [
    "index_b = 0\n",
    "index_h=1\n",
    "\n",
    "print(traj[:,2:,0:3])\n",
    "acf = np.zeros((nframes,2))"
   ]
  },
  {
   "cell_type": "code",
   "execution_count": 34,
   "id": "048213fc-d899-470a-a974-e0891dd3daac",
   "metadata": {},
   "outputs": [
    {
     "name": "stdout",
     "output_type": "stream",
     "text": [
      "program started:  2023-02-24 09:50:26.436012\n",
      "program ends:  2023-02-24 09:50:28.029249\n"
     ]
    }
   ],
   "source": [
    "ix = 0\n",
    "\n",
    "for iy in range(nframes):\n",
    "    if iy == 0:\n",
    "        print(\"program started: \", datetime.now())\n",
    "    if iy == nframes-1:\n",
    "        print(\"program ends: \", datetime.now())\n",
    "\n",
    "    if ix != iy: \n",
    "\n",
    "        vec_ix = ((traj[index_h, 0, ix]-traj[index_b, 0, ix]), (traj[index_h, 1, ix]-traj[index_b, 1, ix]), (traj[index_h, 2, ix]-traj[index_b, 2, ix]) )\n",
    "        vec_iy = ((traj[index_h, 0, iy]-traj[index_b, 0, iy]), (traj[index_h, 1, iy]-traj[index_b, 1, iy]), (traj[index_h, 2, iy]-traj[index_b, 2, iy]) )\n",
    "\n",
    "        det_ix = np.sqrt((vec_ix[0])**2 + (vec_ix[1])**2 + (vec_ix[2])**2 )\n",
    "        det_iy = np.sqrt((vec_iy[0])**2 + (vec_iy[1])**2 + (vec_iy[2])**2 )\n",
    "\n",
    "        unit_ix = vec_ix/det_ix\n",
    "        unit_iy = vec_iy/det_iy\n",
    "\n",
    "        dot = np.dot(unit_ix,unit_iy)\n",
    "\n",
    "        acf[iy,0] = dot"
   ]
  },
  {
   "cell_type": "markdown",
   "id": "caf32c84-d4e9-47f2-b516-dc2afec18990",
   "metadata": {},
   "source": [
    "### For plotting "
   ]
  },
  {
   "cell_type": "code",
   "execution_count": 35,
   "id": "91a35fdd-69a0-4ee0-a250-566575afae5a",
   "metadata": {},
   "outputs": [],
   "source": [
    "def set_fig():     \n",
    "    \n",
    "    plt.rc('xtick', labelsize=40) \n",
    "    plt.rc('ytick', labelsize=40) \n",
    "    plt.rc('axes', labelsize=60) # fontsize of the x and y labels\n",
    "    \n",
    "#    ax.xaxis.set_minor_locator(AutoMinorLocator(2))  \n",
    "#    ax.yaxis.set_minor_locator(AutoMinorLocator(2))\n",
    "\n",
    "    ax.tick_params(which='major', bottom=True, top=True, left=True, right=True, length=15, width=3, direction=\"in\", pad=20)\n",
    "    ax.tick_params(which='minor', bottom=True, top=True, left=True, right=True, length=10, width=3, direction=\"in\", pad=20)\n",
    "    \n",
    "    for axis in ['top','bottom','left','right']:\n",
    "        ax.spines[axis].set_linewidth(3)"
   ]
  },
  {
   "cell_type": "code",
   "execution_count": 36,
   "id": "cee22611-4934-4bbb-a524-2cf97c7ef408",
   "metadata": {},
   "outputs": [],
   "source": [
    "frames=np.arange(0,nframes,1)\n",
    "\n",
    "frames=(frames*0.55)/1000"
   ]
  },
  {
   "cell_type": "code",
   "execution_count": 38,
   "id": "7fb77db5-8e16-4a06-8db6-5d1f799c9c2d",
   "metadata": {},
   "outputs": [
    {
     "data": {
      "text/plain": [
       "<matplotlib.legend.Legend at 0x1ebf4e95940>"
      ]
     },
     "execution_count": 38,
     "metadata": {},
     "output_type": "execute_result"
    },
    {
     "data": {
      "image/png": "[encoded data removed]",
      "text/plain": [
       "<Figure size 1396.8x864 with 1 Axes>"
      ]
     },
     "metadata": {
      "needs_background": "light"
     },
     "output_type": "display_data"
    }
   ],
   "source": [
    "fig, ax = plt.subplots(figsize=(19.4, 12))\n",
    "plt.xlabel('Time (ps)', labelpad=20, size=30)\n",
    "plt.ylabel('Autocorrelation Function', labelpad=20,size=30)\n",
    "plt.xticks(fontsize=25)\n",
    "plt.yticks(fontsize=25)\n",
    "plt.plot(frames[:], acf[:,0], label='T = '+temp_1, color='black', linewidth=1.5,marker='s', markersize=5, markeredgewidth=1, markeredgecolor='blue', mfc='blue')\n",
    "plt.plot(frames[:], acf[:,1], label='T = '+temp_2, color='black', linewidth=1.5,marker='s', markersize=5, markeredgewidth=1, markeredgecolor='red', mfc='crimson')\n",
    "\n",
    "# plt.plot(frames, acf[1000,:], label='Ref = frame 1000', color='black', linewidth=1.5,marker='s', markersize=5, markeredgewidth=1, markeredgecolor='blue', mfc='blue')\n",
    "# plt.plot(frames, acf[:,900], label='Total', color='black', linewidth=1.5,marker='s', markersize=5, markeredgewidth=1, markeredgecolor='green', mfc='crimson')\n",
    "\n",
    "plt.legend(loc = 'lower left', markerscale = 1, fontsize = 20)\n"
   ]
  },
  {
   "cell_type": "code",
   "execution_count": null,
   "id": "ae2ce614-ccb6-4807-8703-cc9f3a71d00f",
   "metadata": {},
   "outputs": [],
   "source": []
  },
  {
   "cell_type": "code",
   "execution_count": null,
   "id": "a7307246-a642-4e4d-a737-3fe34ebeb33a",
   "metadata": {},
   "outputs": [],
   "source": []
  }
 ],
 "metadata": {
  "kernelspec": {
   "display_name": "Python 3 (ipykernel)",
   "language": "python",
   "name": "python3"
  },
  "language_info": {
   "codemirror_mode": {
    "name": "ipython",
    "version": 3
   },
   "file_extension": ".py",
   "mimetype": "text/x-python",
   "name": "python",
   "nbconvert_exporter": "python",
   "pygments_lexer": "ipython3",
   "version": "3.9.12"
  }
 },
 "nbformat": 4,
 "nbformat_minor": 5
}
